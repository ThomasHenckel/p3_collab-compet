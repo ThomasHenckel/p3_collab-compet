{
 "cells": [
  {
   "cell_type": "markdown",
   "metadata": {},
   "source": [
    "# Collaboration and Competition\n",
    "\n",
    "---\n",
    "\n",
    "In this notebook, you will learn how to use the Unity ML-Agents environment for the third project of the [Deep Reinforcement Learning Nanodegree](https://www.udacity.com/course/deep-reinforcement-learning-nanodegree--nd893) program.\n",
    "\n",
    "### 1. Start the Environment\n",
    "\n",
    "We begin by importing the necessary packages.  If the code cell below returns an error, please revisit the project instructions to double-check that you have installed [Unity ML-Agents](https://github.com/Unity-Technologies/ml-agents/blob/master/docs/Installation.md) and [NumPy](http://www.numpy.org/)."
   ]
  },
  {
   "cell_type": "code",
   "execution_count": 1,
   "metadata": {},
   "outputs": [],
   "source": [
    "from unityagents import UnityEnvironment\n",
    "import numpy as np"
   ]
  },
  {
   "cell_type": "markdown",
   "metadata": {},
   "source": [
    "Next, we will start the environment!  **_Before running the code cell below_**, change the `file_name` parameter to match the location of the Unity environment that you downloaded.\n",
    "\n",
    "- **Mac**: `\"path/to/Tennis.app\"`\n",
    "- **Windows** (x86): `\"path/to/Tennis_Windows_x86/Tennis.exe\"`\n",
    "- **Windows** (x86_64): `\"path/to/Tennis_Windows_x86_64/Tennis.exe\"`\n",
    "- **Linux** (x86): `\"path/to/Tennis_Linux/Tennis.x86\"`\n",
    "- **Linux** (x86_64): `\"path/to/Tennis_Linux/Tennis.x86_64\"`\n",
    "- **Linux** (x86, headless): `\"path/to/Tennis_Linux_NoVis/Tennis.x86\"`\n",
    "- **Linux** (x86_64, headless): `\"path/to/Tennis_Linux_NoVis/Tennis.x86_64\"`\n",
    "\n",
    "For instance, if you are using a Mac, then you downloaded `Tennis.app`.  If this file is in the same folder as the notebook, then the line below should appear as follows:\n",
    "```\n",
    "env = UnityEnvironment(file_name=\"Tennis.app\")\n",
    "```"
   ]
  },
  {
   "cell_type": "code",
   "execution_count": 2,
   "metadata": {},
   "outputs": [
    {
     "name": "stderr",
     "output_type": "stream",
     "text": [
      "INFO:unityagents:\n",
      "'Academy' started successfully!\n",
      "Unity Academy name: Academy\n",
      "        Number of Brains: 1\n",
      "        Number of External Brains : 1\n",
      "        Lesson number : 0\n",
      "        Reset Parameters :\n",
      "\t\t\n",
      "Unity brain name: TennisBrain\n",
      "        Number of Visual Observations (per agent): 0\n",
      "        Vector Observation space type: continuous\n",
      "        Vector Observation space size (per agent): 8\n",
      "        Number of stacked Vector Observation: 3\n",
      "        Vector Action space type: continuous\n",
      "        Vector Action space size (per agent): 2\n",
      "        Vector Action descriptions: , \n"
     ]
    }
   ],
   "source": [
    "env = UnityEnvironment(file_name=\"Tennis_Windows_x86_64\\Tennis.exe\")"
   ]
  },
  {
   "cell_type": "markdown",
   "metadata": {},
   "source": [
    "Environments contain **_brains_** which are responsible for deciding the actions of their associated agents. Here we check for the first brain available, and set it as the default brain we will be controlling from Python."
   ]
  },
  {
   "cell_type": "code",
   "execution_count": 3,
   "metadata": {},
   "outputs": [],
   "source": [
    "# get the default brain\n",
    "brain_name = env.brain_names[0]\n",
    "brain = env.brains[brain_name]"
   ]
  },
  {
   "cell_type": "markdown",
   "metadata": {},
   "source": [
    "### 2. Examine the State and Action Spaces\n",
    "\n",
    "In this environment, two agents control rackets to bounce a ball over a net. If an agent hits the ball over the net, it receives a reward of +0.1.  If an agent lets a ball hit the ground or hits the ball out of bounds, it receives a reward of -0.01.  Thus, the goal of each agent is to keep the ball in play.\n",
    "\n",
    "The observation space consists of 8 variables corresponding to the position and velocity of the ball and racket. Two continuous actions are available, corresponding to movement toward (or away from) the net, and jumping. \n",
    "\n",
    "Run the code cell below to print some information about the environment."
   ]
  },
  {
   "cell_type": "code",
   "execution_count": 4,
   "metadata": {},
   "outputs": [
    {
     "name": "stdout",
     "output_type": "stream",
     "text": [
      "Number of agents: 2\n",
      "Size of each action: 2\n",
      "There are 2 agents. Each observes a state with length: 24\n",
      "The state for the first agent looks like: [ 0.          0.          0.          0.          0.          0.\n",
      "  0.          0.          0.          0.          0.          0.\n",
      "  0.          0.          0.          0.         -6.65278625 -1.5\n",
      " -0.          0.          6.83172083  6.         -0.          0.        ]\n"
     ]
    }
   ],
   "source": [
    "# reset the environment\n",
    "env_info = env.reset(train_mode=True)[brain_name]\n",
    "\n",
    "# number of agents \n",
    "num_agents = len(env_info.agents)\n",
    "print('Number of agents:', num_agents)\n",
    "\n",
    "# size of each action\n",
    "action_size = brain.vector_action_space_size\n",
    "print('Size of each action:', action_size)\n",
    "\n",
    "# examine the state space \n",
    "states = env_info.vector_observations\n",
    "state_size = states.shape[1]\n",
    "print('There are {} agents. Each observes a state with length: {}'.format(states.shape[0], state_size))\n",
    "print('The state for the first agent looks like:', states[0])"
   ]
  },
  {
   "cell_type": "markdown",
   "metadata": {},
   "source": [
    "### 3. Training Agents using DDPG\n",
    "\n",
    "Now it's your turn to train your own agent to solve the environment!  When training the environment, set `train_mode=True`, so that the line for resetting the environment looks like the following:\n",
    "```python\n",
    "env_info = env.reset(train_mode=True)[brain_name]\n",
    "```"
   ]
  },
  {
   "cell_type": "code",
   "execution_count": 5,
   "metadata": {},
   "outputs": [
    {
     "data": {
      "text/plain": [
       "<module 'ddpg_agent' from 'C:\\\\udacity\\\\Reinforcement LEarning\\\\deep_rl_nd893-and-beyond\\\\p3_collab-compet\\\\ddpg_agent.py'>"
      ]
     },
     "execution_count": 5,
     "metadata": {},
     "output_type": "execute_result"
    }
   ],
   "source": [
    "from collections import deque\n",
    "import torch\n",
    "import matplotlib.pyplot as plt\n",
    "%matplotlib inline\n",
    "\n",
    "import ddpg_agent\n",
    "import importlib\n",
    "importlib.reload(ddpg_agent)"
   ]
  },
  {
   "cell_type": "code",
   "execution_count": 6,
   "metadata": {},
   "outputs": [],
   "source": [
    "class MultiAgents():\n",
    "    def __init__(self,                  \n",
    "                 state_size,\n",
    "                 action_size,\n",
    "                 num_agents,\n",
    "                 random_seed,\n",
    "                 buffer=None,\n",
    "                 buffer_size=int(1e5),\n",
    "                 batch_size=128,\n",
    "                 gamma=0.99,\n",
    "                 tau=1e-3,\n",
    "                 lr_actor=1e-4,\n",
    "                 lr_critic=1e-3,\n",
    "                 weight_decay=0,\n",
    "                 share_memmory=False):\n",
    "        \n",
    "        self.num_agents = num_agents;\n",
    "        self.memory = None\n",
    "        if share_memmory:\n",
    "            self.memory = ddpg_agent.ReplayBuffer(action_size, buffer_size, batch_size, random_seed);\n",
    "        \n",
    "        self.agents = [ddpg_agent.Agent(state_size=state_size, \n",
    "              action_size=action_size,\n",
    "              num_agents = 1,\n",
    "              random_seed=2,\n",
    "              buffer = self.memory,\n",
    "              buffer_size = buffer_size,\n",
    "              batch_size = batch_size,\n",
    "              gamma = gamma,\n",
    "              tau = tau,\n",
    "              lr_actor = lr_actor,\n",
    "              lr_critic = lr_critic,\n",
    "              weight_decay = weight_decay) for i in range(num_agents)];\n",
    "    \n",
    "    def reset(self):\n",
    "        [agent.reset() for agent in self.agents];\n",
    "    \n",
    "    def step(self, states, actions, rewards, next_states, dones):\n",
    "        [self.agents[i].step(states[i], actions[i], rewards[i], next_states[i], dones[i]) for i in range(self.num_agents)];\n",
    "    \n",
    "    def act(self, states):\n",
    "        actions = [self.agents[i].act(np.array([states[i]])) for i in range(self.num_agents)];\n",
    "        return actions;\n",
    "    \n",
    "    def save(self,run):\n",
    "        [self.agents[i].save(run,i) for i in range(self.num_agents)]\n",
    "        [self.agents[i].save(run,i) for i in range(self.num_agents)]\n",
    "        \n",
    "    def load(self,run):\n",
    "        [self.agents[i].load(run,i) for i in range(self.num_agents)]\n",
    "        [self.agents[i].load(run,i) for i in range(self.num_agents)]\n",
    "\n"
   ]
  },
  {
   "cell_type": "code",
   "execution_count": 7,
   "metadata": {},
   "outputs": [],
   "source": [
    "def ddpg(agent, env_info, n_episodes=5000, max_t=1000, print_every=100, run=0):\n",
    "    scores_deque = deque(maxlen=print_every)\n",
    "    \n",
    "    score = []\n",
    "    solved = False\n",
    "    for i_episode in range(1, n_episodes+1):\n",
    "        scores = np.zeros(num_agents)\n",
    "        env_info = env.reset(train_mode=True)[brain_name] # reset the environment\n",
    "        state = env_info.vector_observations              # get the current state\n",
    "        agent.reset()\n",
    "        for t in range(max_t):\n",
    "            actions = agent.act(state)                    # select an action\n",
    "            env_info = env.step(actions)[brain_name]      # send the action to the environment\n",
    "            next_state = env_info.vector_observations     # get the next state\n",
    "            reward = env_info.rewards                     # get the reward\n",
    "            done = env_info.local_done                    # see if episode has finished\n",
    "            agent.step(state, actions, reward, next_state, done)\n",
    "            state = next_state\n",
    "            scores += reward\n",
    "            \n",
    "            \n",
    "            if np.any(done):\n",
    "                break \n",
    "        scores_deque.append(np.mean(scores))\n",
    "        score.append(np.mean(scores))\n",
    "        print('\\rEpisode {}\\tAverage Score: {:.2f}'.format(i_episode, np.mean(scores_deque)), end=\"\")\n",
    "        if i_episode % print_every == 0:\n",
    "            print('\\rEpisode {}\\tAverage Score: {:.2f}'.format(i_episode, np.mean(scores_deque)))\n",
    "            agent.save(run)\n",
    "        if (np.mean(scores_deque)>=0.5) & (not solved):\n",
    "            print('\\nEnvironment solved in {:d} episodes!\\tAverage Score: {:.2f}'.format(i_episode-100, np.mean(scores_deque)))\n",
    "            solved = True\n",
    "            \n",
    "    return score"
   ]
  },
  {
   "cell_type": "code",
   "execution_count": 18,
   "metadata": {},
   "outputs": [],
   "source": [
    "def playRun(run=0):\n",
    "    max_t = 1000\n",
    "    agent.load(run)\n",
    "\n",
    "    for i in range(3):\n",
    "        scores = np.zeros(num_agents)\n",
    "        env_info = env.reset(train_mode=False)[brain_name] # reset the environment\n",
    "        state = env_info.vector_observations               # get the current state\n",
    "        agent.reset()\n",
    "        for t in range(max_t):\n",
    "            actions = agent.act(state,False)           # select an action\n",
    "            env_info = env.step(actions)[brain_name]    # send the action to the environment\n",
    "            next_state = env_info.vector_observations   # get the next state\n",
    "            reward = env_info.rewards                   # get the reward\n",
    "            done = env_info.local_done                  # see if episode has finished\n",
    "            agent.step(state, actions, reward, next_state, done)\n",
    "            state = next_state\n",
    "            scores += reward\n",
    "\n",
    "\n",
    "            if np.any(done):\n",
    "                break \n",
    "        print(\"Score: {}\".format(np.mean(scores)))"
   ]
  },
  {
   "cell_type": "markdown",
   "metadata": {},
   "source": [
    "### 3.1 Learning Algorithm\n",
    "\n",
    "The learning algorithm used to solve this learning is the DDPG algorithm described in the paper [Continuous control with deep reinforcement learning](https://arxiv.org/abs/1509.02971)\n",
    "\n",
    "This is a modification of the DQN algorithm that is extended to work for continuous output space. \n",
    "The DQN network from the previous lesson took an input, and predicted an action. however this agent needs to learn the appropriate force to apply to each joint of the robot arm. The force is a continuous variable from 0-1.\n",
    "\n",
    "DDPG uses 2 networks, one to predict the action, and one to evaluate the action, and provide the contentious output.\n",
    "\n",
    "**Hyperparameters:**\n",
    " \n",
    "learningrate of 10e−4 and 10e−3 for the actor and critic respectively.  \n",
    "For Q we included L2 weight decay of 0 and used a discount factor of γ = 0.99.\n",
    "For the soft target updates we used τ = 0.001.\n",
    "noise is added using an Ornstein-Uhlenbeck process (Uhlenbeck& Ornstein, 1930) with θ = 0.15 and σ = 0.2.\n",
    "replay buffer size of 1e5  \n",
    "\n",
    "**Network:**  \n",
    "Actor(  \n",
    "  (fc1): Linear(in_features=24, out_features=256, bias=True)  \n",
    "  (fc2): Linear(in_features=256, out_features=256, bias=True)  \n",
    "  (fc3): Linear(in_features=256, out_features=4, bias=True)  \n",
    ")  \n",
    "Actor has input matching the Environment, and output matching the output space\n",
    "\n",
    "Critic(  \n",
    "  (fcs1): Linear(in_features=52, out_features=256, bias=True)  \n",
    "  (fc2): Linear(in_features=256, out_features=256, bias=True)  \n",
    "  (fc3): Linear(in_features=256, out_features=1, bias=True)  \n",
    ")  \n",
    "Critic has input matching the Environment, and one output giving the size of the continuous action.\n",
    "\n",
    "**Colaborative**  \n",
    "The two agents shol learn to colaborate, and pass the ball over the net in a way thet the agent on the other side is able to pass the ball back.\n",
    "Three experiments are tested out  \n",
    "**Run 0:** the two agents are trained using seperate but equal networks, sharing thair experiences in a joined replay buffer, the teory behin tis is that the agents will learn faster as they both have doule as man xperiences to learn from  \n",
    "**Run 1:** Same as above, but each agent gets it own replay buffer, should be able to get the same resoults just a bit slower  \n",
    "**Run 2:** Agents are trained using same replay buffer, and using same network, if each agent, an the environment is seen from the eyes of the agent this should be possible, and train faster than the two above. howver if the environment is represented the same for both agents, this would have to b flipped for one of the agents in order to work.\n"
   ]
  },
  {
   "cell_type": "code",
   "execution_count": 9,
   "metadata": {},
   "outputs": [],
   "source": [
    "# Hyperparameters for the agent parameters from example\n",
    "\n",
    "buffer_size = int(1e5) # replay buffer size\n",
    "batch_size = 256       # minibatch size\n",
    "gamma = 0.99           # discount factor\n",
    "tau = 1e-3             # for soft update of target parameters\n",
    "lr_actor = 1e-4        # learning rate of the actor\n",
    "lr_critic = 1e-3       # learning rate of the critic\n",
    "weight_decay = 0       # L2 weight decay\n",
    "\n",
    "\n",
    "agent = MultiAgents(state_size=state_size, \n",
    "              action_size=action_size,\n",
    "              num_agents = num_agents,\n",
    "              random_seed=2,\n",
    "              buffer_size = buffer_size,\n",
    "              batch_size = batch_size,\n",
    "              gamma = gamma,\n",
    "              tau = tau,\n",
    "              lr_actor = lr_actor,\n",
    "              lr_critic = lr_critic,\n",
    "              weight_decay = weight_decay,\n",
    "              share_memmory=True\n",
    "             )"
   ]
  },
  {
   "cell_type": "code",
   "execution_count": 10,
   "metadata": {
    "scrolled": false
   },
   "outputs": [
    {
     "name": "stdout",
     "output_type": "stream",
     "text": [
      "Episode 100\tAverage Score: -0.00\n",
      "Episode 200\tAverage Score: 0.000\n",
      "Episode 300\tAverage Score: -0.00\n",
      "Episode 400\tAverage Score: -0.00\n",
      "Episode 500\tAverage Score: 0.000\n",
      "Episode 600\tAverage Score: 0.00\n",
      "Episode 700\tAverage Score: 0.02\n",
      "Episode 800\tAverage Score: 0.05\n",
      "Episode 900\tAverage Score: 0.06\n",
      "Episode 1000\tAverage Score: 0.06\n",
      "Episode 1100\tAverage Score: 0.06\n",
      "Episode 1200\tAverage Score: 0.06\n",
      "Episode 1300\tAverage Score: 0.10\n",
      "Episode 1400\tAverage Score: 0.13\n",
      "Episode 1500\tAverage Score: 0.13\n",
      "Episode 1600\tAverage Score: 0.15\n",
      "Episode 1700\tAverage Score: 0.17\n",
      "Episode 1800\tAverage Score: 0.18\n",
      "Episode 1900\tAverage Score: 0.17\n",
      "Episode 2000\tAverage Score: 0.24\n",
      "Episode 2100\tAverage Score: 0.27\n",
      "Episode 2200\tAverage Score: 0.30\n",
      "Episode 2300\tAverage Score: 0.47\n",
      "Episode 2400\tAverage Score: 0.41\n",
      "Episode 2500\tAverage Score: 0.53\n",
      "Episode 2600\tAverage Score: 0.57\n",
      "Episode 2700\tAverage Score: 0.64\n",
      "Episode 2800\tAverage Score: 0.45\n",
      "Episode 2900\tAverage Score: 0.32\n",
      "Episode 3000\tAverage Score: 0.33\n",
      "Episode 3100\tAverage Score: 0.28\n",
      "Episode 3200\tAverage Score: 0.34\n",
      "Episode 3300\tAverage Score: 0.44\n",
      "Episode 3400\tAverage Score: 0.43\n",
      "Episode 3500\tAverage Score: 0.42\n",
      "Episode 3600\tAverage Score: 0.41\n",
      "Episode 3700\tAverage Score: 0.58\n",
      "Episode 3800\tAverage Score: 0.29\n",
      "Episode 3900\tAverage Score: 0.14\n",
      "Episode 4000\tAverage Score: 0.32\n",
      "Episode 4100\tAverage Score: 0.19\n",
      "Episode 4200\tAverage Score: 0.30\n",
      "Episode 4300\tAverage Score: 0.37\n",
      "Episode 4400\tAverage Score: 0.35\n",
      "Episode 4500\tAverage Score: 0.47\n",
      "Episode 4600\tAverage Score: 0.34\n",
      "Episode 4700\tAverage Score: 0.39\n",
      "Episode 4800\tAverage Score: 0.56\n",
      "Episode 4900\tAverage Score: 0.53\n",
      "Episode 5000\tAverage Score: 0.46\n"
     ]
    },
    {
     "data": {
      "image/png": "[encoded data removed]",
      "text/plain": [
       "<Figure size 432x288 with 1 Axes>"
      ]
     },
     "metadata": {
      "needs_background": "light"
     },
     "output_type": "display_data"
    }
   ],
   "source": [
    "scores = ddpg(agent, env_info, run=0)\n",
    "\n",
    "fig = plt.figure()\n",
    "ax = fig.add_subplot(111)\n",
    "plt.plot(np.arange(1, len(scores)+1), scores)\n",
    "plt.ylabel('Score')\n",
    "plt.xlabel('Episode #')\n",
    "plt.show()"
   ]
  },
  {
   "cell_type": "code",
   "execution_count": 19,
   "metadata": {},
   "outputs": [
    {
     "name": "stdout",
     "output_type": "stream",
     "text": [
      "Score: -0.004999999888241291\n",
      "Score: 2.600000038743019\n",
      "Score: 2.650000039488077\n"
     ]
    }
   ],
   "source": [
    "playRun(0)"
   ]
  },
  {
   "cell_type": "code",
   "execution_count": 12,
   "metadata": {},
   "outputs": [],
   "source": [
    "# Hyperparameters for the agent parameters from example\n",
    "\n",
    "buffer_size = int(1e5) # replay buffer size\n",
    "batch_size = 256       # minibatch size\n",
    "gamma = 0.99           # discount factor\n",
    "tau = 1e-3             # for soft update of target parameters\n",
    "lr_actor = 1e-4        # learning rate of the actor\n",
    "lr_critic = 1e-3       # learning rate of the critic\n",
    "weight_decay = 0       # L2 weight decay\n",
    "\n",
    "\n",
    "agent = MultiAgents(state_size=state_size, \n",
    "              action_size=action_size,\n",
    "              num_agents = num_agents,\n",
    "              random_seed=2,\n",
    "              buffer_size = buffer_size,\n",
    "              batch_size = batch_size,\n",
    "              gamma = gamma,\n",
    "              tau = tau,\n",
    "              lr_actor = lr_actor,\n",
    "              lr_critic = lr_critic,\n",
    "              weight_decay = weight_decay,\n",
    "              share_memmory=False\n",
    "             )"
   ]
  },
  {
   "cell_type": "code",
   "execution_count": 13,
   "metadata": {},
   "outputs": [
    {
     "name": "stdout",
     "output_type": "stream",
     "text": [
      "Episode 100\tAverage Score: -0.00\n",
      "Episode 200\tAverage Score: -0.00\n",
      "Episode 300\tAverage Score: -0.00\n",
      "Episode 400\tAverage Score: -0.00\n",
      "Episode 500\tAverage Score: -0.00\n",
      "Episode 600\tAverage Score: -0.00\n",
      "Episode 700\tAverage Score: -0.00\n",
      "Episode 800\tAverage Score: -0.00\n",
      "Episode 900\tAverage Score: 0.010\n",
      "Episode 1000\tAverage Score: 0.01\n",
      "Episode 1100\tAverage Score: 0.04\n",
      "Episode 1200\tAverage Score: 0.03\n",
      "Episode 1300\tAverage Score: 0.05\n",
      "Episode 1400\tAverage Score: 0.09\n",
      "Episode 1500\tAverage Score: 0.10\n",
      "Episode 1600\tAverage Score: 0.13\n",
      "Episode 1700\tAverage Score: 0.12\n",
      "Episode 1800\tAverage Score: 0.14\n",
      "Episode 1900\tAverage Score: 0.20\n",
      "Episode 2000\tAverage Score: 0.16\n",
      "Episode 2100\tAverage Score: 0.27\n",
      "Episode 2200\tAverage Score: 0.27\n",
      "Episode 2300\tAverage Score: 0.18\n",
      "Episode 2400\tAverage Score: 0.23\n",
      "Episode 2500\tAverage Score: 0.19\n",
      "Episode 2600\tAverage Score: 0.23\n",
      "Episode 2700\tAverage Score: 0.24\n",
      "Episode 2800\tAverage Score: 0.22\n",
      "Episode 2900\tAverage Score: 0.29\n",
      "Episode 3000\tAverage Score: 0.39\n",
      "Episode 3100\tAverage Score: 0.43\n",
      "Episode 3200\tAverage Score: 0.28\n",
      "Episode 3300\tAverage Score: 0.28\n",
      "Episode 3400\tAverage Score: 0.50\n",
      "Episode 3500\tAverage Score: 0.41\n",
      "Episode 3600\tAverage Score: 0.37\n",
      "Episode 3700\tAverage Score: 0.31\n",
      "Episode 3800\tAverage Score: 0.34\n",
      "Episode 3900\tAverage Score: 0.33\n",
      "Episode 4000\tAverage Score: 0.30\n",
      "Episode 4100\tAverage Score: 0.35\n",
      "Episode 4200\tAverage Score: 0.33\n",
      "Episode 4300\tAverage Score: 0.31\n",
      "Episode 4400\tAverage Score: 0.35\n",
      "Episode 4500\tAverage Score: 0.46\n",
      "Episode 4600\tAverage Score: 0.53\n",
      "Episode 4700\tAverage Score: 0.57\n",
      "Episode 4800\tAverage Score: 0.46\n",
      "Episode 4900\tAverage Score: 0.34\n",
      "Episode 5000\tAverage Score: 0.25\n"
     ]
    },
    {
     "data": {
      "image/png": "[encoded data removed]",
      "text/plain": [
       "<Figure size 432x288 with 1 Axes>"
      ]
     },
     "metadata": {
      "needs_background": "light"
     },
     "output_type": "display_data"
    }
   ],
   "source": [
    "scores = ddpg(agent, env_info, run=1)\n",
    "\n",
    "fig = plt.figure()\n",
    "ax = fig.add_subplot(111)\n",
    "plt.plot(np.arange(1, len(scores)+1), scores)\n",
    "plt.ylabel('Score')\n",
    "plt.xlabel('Episode #')\n",
    "plt.show()"
   ]
  },
  {
   "cell_type": "code",
   "execution_count": 20,
   "metadata": {},
   "outputs": [
    {
     "name": "stdout",
     "output_type": "stream",
     "text": [
      "Score: 0.09500000160187483\n",
      "Score: -0.004999999888241291\n",
      "Score: -0.004999999888241291\n"
     ]
    }
   ],
   "source": [
    "playRun(1)"
   ]
  },
  {
   "cell_type": "code",
   "execution_count": 15,
   "metadata": {},
   "outputs": [],
   "source": [
    "# Hyperparameters for the agent parameters from example\n",
    "\n",
    "buffer_size = int(1e5) # replay buffer size\n",
    "batch_size = 256       # minibatch size\n",
    "gamma = 0.99           # discount factor\n",
    "tau = 1e-3             # for soft update of target parameters\n",
    "lr_actor = 1e-4        # learning rate of the actor\n",
    "lr_critic = 1e-3       # learning rate of the critic\n",
    "weight_decay = 0       # L2 weight decay\n",
    "\n",
    "\n",
    "agent = ddpg_agent.Agent(state_size=state_size, \n",
    "              action_size=action_size,\n",
    "              num_agents = num_agents,\n",
    "              random_seed=2,\n",
    "              buffer_size = buffer_size,\n",
    "              batch_size = batch_size,\n",
    "              gamma = gamma,\n",
    "              tau = tau,\n",
    "              lr_actor = lr_actor,\n",
    "              lr_critic = lr_critic,\n",
    "              weight_decay = weight_decay\n",
    "             )"
   ]
  },
  {
   "cell_type": "code",
   "execution_count": 16,
   "metadata": {},
   "outputs": [
    {
     "name": "stdout",
     "output_type": "stream",
     "text": [
      "Episode 100\tAverage Score: -0.00\n",
      "Episode 200\tAverage Score: -0.00\n",
      "Episode 300\tAverage Score: -0.00\n",
      "Episode 400\tAverage Score: 0.010\n",
      "Episode 500\tAverage Score: -0.00\n",
      "Episode 600\tAverage Score: -0.00\n",
      "Episode 700\tAverage Score: 0.000\n",
      "Episode 800\tAverage Score: 0.02\n",
      "Episode 900\tAverage Score: 0.05\n",
      "Episode 1000\tAverage Score: 0.04\n",
      "Episode 1100\tAverage Score: 0.08\n",
      "Episode 1200\tAverage Score: 0.16\n",
      "Episode 1300\tAverage Score: 0.50\n",
      "Episode 1400\tAverage Score: 0.50\n",
      "Episode 1500\tAverage Score: 0.43\n",
      "Episode 1600\tAverage Score: 0.33\n",
      "Episode 1700\tAverage Score: 0.48\n",
      "Episode 1800\tAverage Score: 0.39\n",
      "Episode 1900\tAverage Score: 0.32\n",
      "Episode 2000\tAverage Score: 0.25\n",
      "Episode 2100\tAverage Score: 0.34\n",
      "Episode 2200\tAverage Score: 0.28\n",
      "Episode 2300\tAverage Score: 0.47\n",
      "Episode 2400\tAverage Score: 0.44\n",
      "Episode 2500\tAverage Score: 0.39\n",
      "Episode 2600\tAverage Score: 0.56\n",
      "Episode 2700\tAverage Score: 0.47\n",
      "Episode 2800\tAverage Score: 0.44\n",
      "Episode 2900\tAverage Score: 0.60\n",
      "Episode 3000\tAverage Score: 0.57\n",
      "Episode 3100\tAverage Score: 0.44\n",
      "Episode 3200\tAverage Score: 0.43\n",
      "Episode 3300\tAverage Score: 0.37\n",
      "Episode 3400\tAverage Score: 0.59\n",
      "Episode 3500\tAverage Score: 0.46\n",
      "Episode 3600\tAverage Score: 0.36\n",
      "Episode 3700\tAverage Score: 0.36\n",
      "Episode 3800\tAverage Score: 0.46\n",
      "Episode 3900\tAverage Score: 0.23\n",
      "Episode 4000\tAverage Score: 0.42\n",
      "Episode 4100\tAverage Score: 0.35\n",
      "Episode 4200\tAverage Score: 0.36\n",
      "Episode 4300\tAverage Score: 0.47\n",
      "Episode 4400\tAverage Score: 0.59\n",
      "Episode 4500\tAverage Score: 0.36\n",
      "Episode 4600\tAverage Score: 0.44\n",
      "Episode 4700\tAverage Score: 0.31\n",
      "Episode 4800\tAverage Score: 0.39\n",
      "Episode 4900\tAverage Score: 0.29\n",
      "Episode 5000\tAverage Score: 0.25\n"
     ]
    },
    {
     "data": {
      "image/png": "[encoded data removed]",
      "text/plain": [
       "<Figure size 432x288 with 1 Axes>"
      ]
     },
     "metadata": {
      "needs_background": "light"
     },
     "output_type": "display_data"
    }
   ],
   "source": [
    "scores = ddpg(agent, env_info, run=2)\n",
    "\n",
    "fig = plt.figure()\n",
    "ax = fig.add_subplot(111)\n",
    "plt.plot(np.arange(1, len(scores)+1), scores)\n",
    "plt.ylabel('Score')\n",
    "plt.xlabel('Episode #')\n",
    "plt.show()"
   ]
  },
  {
   "cell_type": "code",
   "execution_count": 23,
   "metadata": {},
   "outputs": [
    {
     "name": "stdout",
     "output_type": "stream",
     "text": [
      "Score: 0.6450000097975135\n",
      "Score: 0.1450000023469329\n",
      "Score: 0.7450000112876296\n"
     ]
    }
   ],
   "source": [
    "playRun(2)"
   ]
  },
  {
   "cell_type": "markdown",
   "metadata": {},
   "source": [
    "## Conclussion\n",
    "Looking at the training time of the 3 approaches, it is clear that a joind buffer lets the network train faster.\n",
    "\n",
    "Run 2 was the network reaching a score of 0.5 fastest, and did it in 1300 episodes. This concludes that each agent sees the enironment from its own perspective, and thus the agents should act the sam given the same input.\n",
    "\n",
    "One thing that is worth noticing is how the network plays after it is trained, either it drops the ball pretty much in the start, or it manages to get a hand on the ball and plays long balls back an furth, much like you would do it yourself if you played the game to get as many passes as possible.\n",
    "\n",
    "If the agent manages to get the ball under controll, it most times plays to the end of the game.\n",
    "\n",
    "\n",
    "\n",
    "\n"
   ]
  },
  {
   "cell_type": "markdown",
   "metadata": {},
   "source": [
    "## Future Work\n",
    "- Further Hyperparameter Tuning\n",
    "- Try algorithm on additional environment like the Soccer environment\n",
    "- Try out other algorithms, MADDPG or Multi-Agent DDPG. This [paper](https://papers.nips.cc/paper/7217-multi-agent-actor-critic-for-mixed-cooperative-competitive-environments.pdf) describes how information about the other agents states is used during training. this should improve training and perform better\n",
    "- Add more random actions to make the agents explore more, it looks like it only learns to take the ball from its initial position, and then plays long balls.\n",
    "- Change the rules of the game to make the agents challange eachother, revording the agent that manages to get the ball to land on the other agents playingfield.\n",
    "\n"
   ]
  },
  {
   "cell_type": "code",
   "execution_count": null,
   "metadata": {},
   "outputs": [],
   "source": []
  }
 ],
 "metadata": {
  "kernelspec": {
   "display_name": "Python 3",
   "language": "python",
   "name": "python3"
  }
 },
 "nbformat": 4,
 "nbformat_minor": 2
}
